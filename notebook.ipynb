{
 "cells": [
  {
   "cell_type": "code",
   "execution_count": null,
   "metadata": {},
   "outputs": [],
   "source": [
    "#%pip install python-dotenv"
   ]
  },
  {
   "cell_type": "code",
   "execution_count": null,
   "metadata": {},
   "outputs": [],
   "source": [
    "#%pip install openai"
   ]
  },
  {
   "cell_type": "code",
   "execution_count": 1,
   "metadata": {},
   "outputs": [],
   "source": [
    "import os\n",
    "from openai import OpenAI, AsyncOpenAI\n",
    "from dotenv import load_dotenv\n",
    "import asyncio\n",
    "import time\n",
    "\n",
    "# env variables\n",
    "load_dotenv()\n",
    "\n",
    "my_key = os.getenv('OPENAI_API_KEY')\n",
    "\n",
    "# OpenAI API\n",
    "client = OpenAI(api_key=my_key)\n"
   ]
  },
  {
   "cell_type": "code",
   "execution_count": 2,
   "metadata": {},
   "outputs": [],
   "source": [
    "# files = [\"data/Benefit_Options.pdf\", \"data/PerksPlus.pdf\", \"data/employee_handbook.pdf\"]\n",
    "\n",
    "#code to upload file\n",
    "file = client.files.create(\n",
    "  file=open(\"data/DNA_Extraction_Protocol.pdf\", \"rb\"),\n",
    "  purpose='assistants'\n",
    ")"
   ]
  },
  {
   "cell_type": "code",
   "execution_count": 3,
   "metadata": {},
   "outputs": [
    {
     "name": "stdout",
     "output_type": "stream",
     "text": [
      "FileObject(id='file-7TrCBZ14kLXQE6YAZdud03dR', bytes=227141, created_at=1700084504, filename='role_library.pdf', object='file', purpose='assistants', status='processed', status_details=None)\n"
     ]
    }
   ],
   "source": [
    "print(file)"
   ]
  },
  {
   "cell_type": "code",
   "execution_count": 5,
   "metadata": {},
   "outputs": [],
   "source": [
    "assistant = client.beta.assistants.create(\n",
    "            name=\"Streamlit_File\",\n",
    "            instructions=\"You are a helpful assistant\",\n",
    "            model=\"gpt-4-1106-preview\",\n",
    "            tools=[{\"type\": \"retrieval\"}],\n",
    "            file_ids=[file.id]\n",
    "        )"
   ]
  },
  {
   "cell_type": "code",
   "execution_count": 6,
   "metadata": {},
   "outputs": [
    {
     "name": "stdout",
     "output_type": "stream",
     "text": [
      "Assistant(id='asst_2Jeru1JKYpy3qd65N4rrOngr', created_at=1700084733, description=None, file_ids=['file-7TrCBZ14kLXQE6YAZdud03dR'], instructions='You are a helpful assistant', metadata={}, model='gpt-4-1106-preview', name='Streamlit_File', object='assistant', tools=[ToolRetrieval(type='retrieval')])\n"
     ]
    }
   ],
   "source": [
    "print(assistant)"
   ]
  },
  {
   "cell_type": "code",
   "execution_count": 11,
   "metadata": {},
   "outputs": [],
   "source": [
    "# Assert that the asssistant's file_ids is not empty\n",
    "assert assistant.file_ids is not None and len(assistant.file_ids) > 0 "
   ]
  },
  {
   "cell_type": "code",
   "execution_count": 9,
   "metadata": {},
   "outputs": [
    {
     "name": "stdout",
     "output_type": "stream",
     "text": [
      "1\n"
     ]
    }
   ],
   "source": [
    "print(len(assistant.file_ids))"
   ]
  },
  {
   "cell_type": "code",
   "execution_count": null,
   "metadata": {},
   "outputs": [],
   "source": []
  }
 ],
 "metadata": {
  "kernelspec": {
   "display_name": "venv",
   "language": "python",
   "name": "python3"
  },
  "language_info": {
   "codemirror_mode": {
    "name": "ipython",
    "version": 3
   },
   "file_extension": ".py",
   "mimetype": "text/x-python",
   "name": "python",
   "nbconvert_exporter": "python",
   "pygments_lexer": "ipython3",
   "version": "3.12.0"
  }
 },
 "nbformat": 4,
 "nbformat_minor": 2
}
